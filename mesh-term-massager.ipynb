{
 "cells": [
  {
   "cell_type": "markdown",
   "metadata": {},
   "source": [
    "# MeshTermMassager"
   ]
  },
  {
   "cell_type": "code",
   "execution_count": null,
   "metadata": {},
   "outputs": [],
   "source": [
    "\n",
    "%load_ext autoreload\n",
    "%autoreload 2\n"
   ]
  },
  {
   "cell_type": "code",
   "execution_count": 1,
   "metadata": {},
   "outputs": [],
   "source": [
    "import mesh_term_massager as mesh"
   ]
  },
  {
   "cell_type": "code",
   "execution_count": 5,
   "metadata": {},
   "outputs": [],
   "source": [
    "mtm=mesh.MeshTermMassager('desc2020.xml')"
   ]
  },
  {
   "cell_type": "code",
   "execution_count": 6,
   "metadata": {},
   "outputs": [
    {
     "output_type": "stream",
     "name": "stderr",
     "text": "0it [00:00, ?it/s]Parsing XML...\n6507874it [00:19, 328239.45it/s]\nParsing complete! 29638 records detected\n"
    }
   ],
   "source": [
    "mtm.parse_terms()"
   ]
  },
  {
   "cell_type": "code",
   "execution_count": 7,
   "metadata": {},
   "outputs": [
    {
     "output_type": "execute_result",
     "data": {
      "text/plain": "      Unique_ID                 MeSH_heading  \\\n0       D000001                   Calcimycin   \n1       D000002                      Temefos   \n2       D000003                    Abattoirs   \n3       D000004       Abbreviations as Topic   \n4       D000005                      Abdomen   \n...         ...                          ...   \n29633   D066310               Digital Divide   \n29634   D066328             Ventral Striatum   \n29635   D066329           Protein Aggregates   \n29636   D066330  Printing, Three-Dimensional   \n29637   D066331      Laser-Evoked Potentials   \n\n                                                tree_num  \\\n0                                  [D03.633.100.221.173]   \n1      [D02.705.400.625.800, D02.705.539.345.800, D02...   \n2                 [J01.576.423.200.700.100, J03.540.020]   \n3                              [L01.559.598.400.556.131]   \n4                                          [A01.923.047]   \n...                                                  ...   \n29633                                  [L01.143.230.500]   \n29634              [A08.186.211.200.885.287.249.487.775]   \n29635                                          [D05.875]   \n29636  [J01.897.564, L01.224.108.150.500, L01.296.110...   \n29637  [G07.265.216.500.400.500, G11.561.200.500.400....   \n\n                                     term_concepts  \\\n0                            [Calcimycin, A-23187]   \n1                          [Temefos, Abate, Difos]   \n2                                      [Abattoirs]   \n3      [Abbreviations as Topic, Acronyms as Topic]   \n4                                        [Abdomen]   \n...                                            ...   \n29633                             [Digital Divide]   \n29634                           [Ventral Striatum]   \n29635                         [Protein Aggregates]   \n29636                [Printing, Three-Dimensional]   \n29637                    [Laser-Evoked Potentials]   \n\n                                             entry_terms  \n0                   [A-23187, A23187, Antibiotic A23187]  \n1                               [Temephos, Abate, Difos]  \n2      [Slaughter Houses, Slaughter House, Slaughterh...  \n3                                    [Acronyms as Topic]  \n4                                                     []  \n...                                                  ...  \n29633                                                 []  \n29634                                                 []  \n29635                                                 []  \n29636  [3-Dimensional Printing, 3-D Printing, Three-D...  \n29637                                                 []  \n\n[29638 rows x 5 columns]",
      "text/html": "<div>\n<style scoped>\n    .dataframe tbody tr th:only-of-type {\n        vertical-align: middle;\n    }\n\n    .dataframe tbody tr th {\n        vertical-align: top;\n    }\n\n    .dataframe thead th {\n        text-align: right;\n    }\n</style>\n<table border=\"1\" class=\"dataframe\">\n  <thead>\n    <tr style=\"text-align: right;\">\n      <th></th>\n      <th>Unique_ID</th>\n      <th>MeSH_heading</th>\n      <th>tree_num</th>\n      <th>term_concepts</th>\n      <th>entry_terms</th>\n    </tr>\n  </thead>\n  <tbody>\n    <tr>\n      <th>0</th>\n      <td>D000001</td>\n      <td>Calcimycin</td>\n      <td>[D03.633.100.221.173]</td>\n      <td>[Calcimycin, A-23187]</td>\n      <td>[A-23187, A23187, Antibiotic A23187]</td>\n    </tr>\n    <tr>\n      <th>1</th>\n      <td>D000002</td>\n      <td>Temefos</td>\n      <td>[D02.705.400.625.800, D02.705.539.345.800, D02...</td>\n      <td>[Temefos, Abate, Difos]</td>\n      <td>[Temephos, Abate, Difos]</td>\n    </tr>\n    <tr>\n      <th>2</th>\n      <td>D000003</td>\n      <td>Abattoirs</td>\n      <td>[J01.576.423.200.700.100, J03.540.020]</td>\n      <td>[Abattoirs]</td>\n      <td>[Slaughter Houses, Slaughter House, Slaughterh...</td>\n    </tr>\n    <tr>\n      <th>3</th>\n      <td>D000004</td>\n      <td>Abbreviations as Topic</td>\n      <td>[L01.559.598.400.556.131]</td>\n      <td>[Abbreviations as Topic, Acronyms as Topic]</td>\n      <td>[Acronyms as Topic]</td>\n    </tr>\n    <tr>\n      <th>4</th>\n      <td>D000005</td>\n      <td>Abdomen</td>\n      <td>[A01.923.047]</td>\n      <td>[Abdomen]</td>\n      <td>[]</td>\n    </tr>\n    <tr>\n      <th>...</th>\n      <td>...</td>\n      <td>...</td>\n      <td>...</td>\n      <td>...</td>\n      <td>...</td>\n    </tr>\n    <tr>\n      <th>29633</th>\n      <td>D066310</td>\n      <td>Digital Divide</td>\n      <td>[L01.143.230.500]</td>\n      <td>[Digital Divide]</td>\n      <td>[]</td>\n    </tr>\n    <tr>\n      <th>29634</th>\n      <td>D066328</td>\n      <td>Ventral Striatum</td>\n      <td>[A08.186.211.200.885.287.249.487.775]</td>\n      <td>[Ventral Striatum]</td>\n      <td>[]</td>\n    </tr>\n    <tr>\n      <th>29635</th>\n      <td>D066329</td>\n      <td>Protein Aggregates</td>\n      <td>[D05.875]</td>\n      <td>[Protein Aggregates]</td>\n      <td>[]</td>\n    </tr>\n    <tr>\n      <th>29636</th>\n      <td>D066330</td>\n      <td>Printing, Three-Dimensional</td>\n      <td>[J01.897.564, L01.224.108.150.500, L01.296.110...</td>\n      <td>[Printing, Three-Dimensional]</td>\n      <td>[3-Dimensional Printing, 3-D Printing, Three-D...</td>\n    </tr>\n    <tr>\n      <th>29637</th>\n      <td>D066331</td>\n      <td>Laser-Evoked Potentials</td>\n      <td>[G07.265.216.500.400.500, G11.561.200.500.400....</td>\n      <td>[Laser-Evoked Potentials]</td>\n      <td>[]</td>\n    </tr>\n  </tbody>\n</table>\n<p>29638 rows × 5 columns</p>\n</div>"
     },
     "metadata": {},
     "execution_count": 7
    }
   ],
   "source": [
    "mtm.get_processed_df()"
   ]
  },
  {
   "cell_type": "code",
   "execution_count": 8,
   "metadata": {},
   "outputs": [
    {
     "output_type": "stream",
     "name": "stdout",
     "text": "Data saved to json\n"
    }
   ],
   "source": [
    "mtm.save_json()"
   ]
  },
  {
   "cell_type": "code",
   "execution_count": null,
   "metadata": {},
   "outputs": [],
   "source": []
  }
 ],
 "metadata": {
  "kernelspec": {
   "display_name": "Python 3",
   "language": "python",
   "name": "python3"
  },
  "language_info": {
   "codemirror_mode": {
    "name": "ipython",
    "version": 3
   },
   "file_extension": ".py",
   "mimetype": "text/x-python",
   "name": "python",
   "nbconvert_exporter": "python",
   "pygments_lexer": "ipython3",
   "version": "3.6.10-final"
  }
 },
 "nbformat": 4,
 "nbformat_minor": 2
}